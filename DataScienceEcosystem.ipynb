{
 "cells": [
  {
   "cell_type": "markdown",
   "id": "1d250c4b-352a-448e-a218-788057dc572a",
   "metadata": {},
   "source": [
    "# Data Science Tools and Ecosystem"
   ]
  },
  {
   "cell_type": "markdown",
   "id": "adfa9756-105c-424c-95ad-8132cc4c477a",
   "metadata": {
    "tags": []
   },
   "source": [
    "In this notebook, Data Science Tools and Ecosystem are summarized.\n"
   ]
  },
  {
   "cell_type": "markdown",
   "id": "70868cb8-e814-49ff-adeb-6437a24bcae9",
   "metadata": {
    "tags": []
   },
   "source": [
    "**Objectives:**"
   ]
  },
  {
   "cell_type": "markdown",
   "id": "e0ee12e1-e68b-4148-9518-276b59a3e7e8",
   "metadata": {
    "tags": []
   },
   "source": [
    "- Main Objectives\n",
    "     - List popular languages for Data Science\n",
    "     - list data science libraries\n",
    "     - Create table of Data Science tools\n",
    "     "
   ]
  },
  {
   "cell_type": "markdown",
   "id": "87c43ad6-c4b7-4e95-bc5e-b2fa714f9afc",
   "metadata": {},
   "source": [
    "Some of the popular languages that Data Scientists use are:\n",
    "\n",
    "    1. Python\n",
    "    2. SQL\n",
    "    3. R"
   ]
  },
  {
   "cell_type": "markdown",
   "id": "569753e0-cc4c-4074-bb4c-3b83d84e1aca",
   "metadata": {},
   "source": [
    "Some of the commonly used libraries used by Data Scientists include:\n",
    "\n",
    "    1. Numpy\n",
    "    2. Pandas\n",
    "    3. TenserFlow"
   ]
  },
  {
   "cell_type": "markdown",
   "id": "f9fbb283-aeb5-435e-874b-fe360eb895ea",
   "metadata": {
    "tags": []
   },
   "source": [
    "### Data Science Tools\n",
    "\n",
    "| Data Science Tools |\n",
    "|--------------------|\n",
    "| Jupyter Notebooks|\n",
    "|Zeppelin Notebooks |\n",
    "|R Studio|\n",
    "\n"
   ]
  },
  {
   "cell_type": "markdown",
   "id": "6b764e02-9c55-4e39-a252-02f71e7db321",
   "metadata": {},
   "source": [
    "### Below are a few examples of evaluating arithmetic expressions in Python"
   ]
  },
  {
   "cell_type": "code",
   "execution_count": 7,
   "id": "48abebc9-ab0d-4991-a7d9-81432d7896b4",
   "metadata": {
    "tags": []
   },
   "outputs": [
    {
     "data": {
      "text/plain": [
       "17"
      ]
     },
     "execution_count": 7,
     "metadata": {},
     "output_type": "execute_result"
    }
   ],
   "source": [
    "#This is a simple arithmetic expression to multiply then add integers\n",
    "\n",
    "(3*4)+5\n"
   ]
  },
  {
   "cell_type": "code",
   "execution_count": 8,
   "id": "f32e437f-6727-4580-90d7-a0599af281e6",
   "metadata": {
    "tags": []
   },
   "outputs": [
    {
     "data": {
      "text/plain": [
       "3.3333333333333335"
      ]
     },
     "execution_count": 8,
     "metadata": {},
     "output_type": "execute_result"
    }
   ],
   "source": [
    "#This will convert 200 minutes to hours by dividing by 60\n",
    "\n",
    "200/60\n"
   ]
  },
  {
   "cell_type": "markdown",
   "id": "19cce060-a63e-4748-aad9-3c5e3c80af72",
   "metadata": {},
   "source": [
    "## Author: \n",
    "\n",
    "Karabo Vilakazi"
   ]
  },
  {
   "cell_type": "code",
   "execution_count": null,
   "id": "19666631-4615-4e59-affa-ec20e8e907b2",
   "metadata": {},
   "outputs": [],
   "source": []
  }
 ],
 "metadata": {
  "kernelspec": {
   "display_name": "Python",
   "language": "python",
   "name": "conda-env-python-py"
  },
  "language_info": {
   "codemirror_mode": {
    "name": "ipython",
    "version": 3
   },
   "file_extension": ".py",
   "mimetype": "text/x-python",
   "name": "python",
   "nbconvert_exporter": "python",
   "pygments_lexer": "ipython3",
   "version": "3.7.12"
  },
  "toc-showmarkdowntxt": false
 },
 "nbformat": 4,
 "nbformat_minor": 5
}
